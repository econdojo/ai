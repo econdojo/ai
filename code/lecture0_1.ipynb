{
 "cells": [
  {
   "cell_type": "code",
   "execution_count": 4,
   "metadata": {},
   "outputs": [
    {
     "name": "stdout",
     "output_type": "stream",
     "text": [
      "<class 'int'>\n",
      "3\n",
      "4\n",
      "2\n",
      "6\n",
      "9\n",
      "4\n",
      "8\n",
      "<class 'float'>\n",
      "2.5 3.5 5.0 6.25\n"
     ]
    }
   ],
   "source": [
    "# Basic data type: numbers\n",
    "\n",
    "x = 3\n",
    "print(type(x)) # print \"<class 'int'>\"\n",
    "print(x)       # print \"3\"\n",
    "print(x + 1)   # addition; print \"4\"\n",
    "print(x - 1)   # subtraction; print \"2\"\n",
    "print(x * 2)   # multiplication; print \"6\"\n",
    "print(x ** 2)  # exponentiation; print \"9\"\n",
    "x += 1\n",
    "print(x)       # print \"4\"\n",
    "x *= 2\n",
    "print(x)       # print \"8\"\n",
    "y = 2.5\n",
    "print(type(y)) # print \"<class 'float'>\"\n",
    "print(y, y + 1, y * 2, y ** 2) # print \"2.5 3.5 5.0 6.25\""
   ]
  },
  {
   "cell_type": "code",
   "execution_count": 5,
   "metadata": {},
   "outputs": [
    {
     "name": "stdout",
     "output_type": "stream",
     "text": [
      "<class 'bool'>\n",
      "False\n",
      "True\n",
      "False\n",
      "True\n"
     ]
    }
   ],
   "source": [
    "# Basic data type: booleans\n",
    "\n",
    "t = True\n",
    "f = False\n",
    "print(type(t)) # print \"<class 'bool'>\"\n",
    "print(t and f) # logical AND; print \"False\"\n",
    "print(t or f)  # logical OR; print \"True\"\n",
    "print(not t)   # logical NOT; print \"False\"\n",
    "print(t != f)  # logical XOR; print \"True\""
   ]
  },
  {
   "cell_type": "code",
   "execution_count": 6,
   "metadata": {},
   "outputs": [
    {
     "name": "stdout",
     "output_type": "stream",
     "text": [
      "hello\n",
      "5\n",
      "hello world\n",
      "hello world 12\n",
      "Hello\n",
      "HELLO\n",
      "  hello\n",
      " hello \n",
      "he(ell)(ell)o\n",
      "world\n"
     ]
    }
   ],
   "source": [
    "# Basic data type: strings\n",
    "\n",
    "a = 'hello'    # single quotes string literals\n",
    "b = \"world\"    # double quotes string literals\n",
    "print(a)       # print \"hello\"\n",
    "print(len(a))  # string length; print \"5\"\n",
    "ab = a + ' ' + b  # concatenation\n",
    "print(ab)      # print \"hello world\"\n",
    "ab12 = '%s %s %d' % (a, b, 12)  # format\n",
    "print(ab12)    # print \"hello world 12\"\n",
    "print(a.capitalize()) # capitalize; print \"Hello\"\n",
    "print(a.upper())      # uppercase; print \"HELLO\"\n",
    "print(a.rjust(7))     # right-justify with space padding; print \"  hello\"\n",
    "print(a.center(7))    # center with space padding; print \" hello \"\n",
    "print(a.replace('l', '(ell)'))  # replace all instances of one substring with another; print \"he(ell)(ell)o\"\n",
    "print('  world '.strip())       # strip leading and trailing whitespace; print \"world\""
   ]
  },
  {
   "cell_type": "code",
   "execution_count": 15,
   "metadata": {},
   "outputs": [
    {
     "name": "stdout",
     "output_type": "stream",
     "text": [
      "True\n",
      "5\n",
      "False\n",
      "4304873904\n",
      "4304874064\n",
      "6\n",
      "4304873936\n"
     ]
    }
   ],
   "source": [
    "# Immutables\n",
    "\n",
    "x = 5          # primitives/immutables (cannot be modified in-place)\n",
    "y = x          # deep copy/pass by value\n",
    "print(y is x)  # test if x and y refer to same object; print \"True\"\n",
    "y = 10         # y points to new object\n",
    "print(x)       # x is not affected; print \"5\"\n",
    "print(y is x)  # x and y refer to different objects; print \"False\"\n",
    "print(id(x))   # check address of int object (on heap) that x points to, but no direct way to check address of x as reference (on stack)\n",
    "print(id(y))   # x and y store different addresses\n",
    "x += 1         # augmented assignment (+=, -=, *=, /=, etc.); same as x = x + 1\n",
    "print(x)       # print \"6\"\n",
    "print(id(x))   # x points to new object"
   ]
  },
  {
   "cell_type": "code",
   "execution_count": 8,
   "metadata": {},
   "outputs": [
    {
     "name": "stdout",
     "output_type": "stream",
     "text": [
      "2\n",
      "2\n",
      "[3, 1, 'foo']\n",
      "[3, 1, 'foo', 'bar']\n",
      "bar\n"
     ]
    }
   ],
   "source": [
    "# Container: lists\n",
    "\n",
    "xs = [3, 1, 2]    # create a list\n",
    "print(xs[2])      # print \"2\"\n",
    "print(xs[-1])     # negative index counts from list end; print \"2\"\n",
    "xs[2] = 'foo'     # can contain different types\n",
    "print(xs)         # print \"[3, 1, 'foo']\"\n",
    "xs.append('bar')  # add new element to list end\n",
    "print(xs)         # print \"[3, 1, 'foo', 'bar']\"\n",
    "x = xs.pop()      # remove and return last element\n",
    "print(x)          # print \"bar\""
   ]
  },
  {
   "cell_type": "code",
   "execution_count": 9,
   "metadata": {},
   "outputs": [
    {
     "name": "stdout",
     "output_type": "stream",
     "text": [
      "[0, 1, 2, 3, 4]\n",
      "[2, 3]\n",
      "[2, 3, 4]\n",
      "[0, 1]\n",
      "[0, 1, 2, 3, 4]\n",
      "[0, 1, 2, 3]\n",
      "[0, 1, 8, 9, 4]\n"
     ]
    }
   ],
   "source": [
    "# Container: list slicing\n",
    "\n",
    "nums = list(range(5))   # create list of integers\n",
    "print(nums)             # print \"[0, 1, 2, 3, 4]\"\n",
    "print(nums[2:4])        # slice from index 2 to 4 (exclusive); print \"[2, 3]\"\n",
    "print(nums[2:])         # slice from index 2 to end; print \"[2, 3, 4]\"\n",
    "print(nums[:2])         # slice from start to index 2 (exclusive); print \"[0, 1]\"\n",
    "print(nums[:])          # slice of whole list; print \"[0, 1, 2, 3, 4]\"\n",
    "print(nums[:-1])        # slice indices can be negative; print \"[0, 1, 2, 3]\"\n",
    "nums[2:4] = [8, 9]      # assign new sublist to a slice\n",
    "print(nums)             # print \"[0, 1, 8, 9, 4]\""
   ]
  },
  {
   "cell_type": "code",
   "execution_count": 10,
   "metadata": {},
   "outputs": [
    {
     "name": "stdout",
     "output_type": "stream",
     "text": [
      "cat\n",
      "dog\n",
      "monkey\n",
      "[0, 4, 16]\n"
     ]
    }
   ],
   "source": [
    "# Container: list comprehension\n",
    "\n",
    "animals = ['cat', 'dog', 'monkey']\n",
    "for animal in animals:\n",
    "    print(animal)  # print \"cat\", \"dog\", \"monkey\", each on its own line\n",
    "\n",
    "nums = [0, 1, 2, 3, 4]\n",
    "even_squares = [x ** 2 for x in nums if x % 2 == 0]  # list comprehension\n",
    "print(even_squares)  # print \"[0, 4, 16]\""
   ]
  },
  {
   "cell_type": "code",
   "execution_count": 13,
   "metadata": {},
   "outputs": [
    {
     "name": "stdout",
     "output_type": "stream",
     "text": [
      "cute\n",
      "True\n",
      "N/A\n",
      "wet\n",
      "N/A\n"
     ]
    }
   ],
   "source": [
    "# Container: dictionaries\n",
    "\n",
    "d = {'cat': 'cute', 'dog': 'furry'}  # create new dictionary (key-value pairs)\n",
    "print(d['cat'])       # get entry; print \"cute\"\n",
    "print('cat' in d)     # check if dictionary has a given key; print \"True\"\n",
    "d['fish'] = 'wet'     # set entry\n",
    "# print(d['monkey'])    # KeyError: 'monkey' not a key of d\n",
    "print(d.get('monkey', 'N/A'))  # get element with default; print \"N/A\"\n",
    "print(d.get('fish', 'N/A'))    # print \"wet\"\n",
    "del d['fish']         # remove element\n",
    "print(d.get('fish', 'N/A'))    # \"fish\" is no longer a key; print \"N/A\""
   ]
  },
  {
   "cell_type": "code",
   "execution_count": 14,
   "metadata": {},
   "outputs": [
    {
     "name": "stdout",
     "output_type": "stream",
     "text": [
      "A person has 2 legs\n",
      "A cat has 4 legs\n",
      "A spider has 8 legs\n",
      "{0: 0, 2: 4, 4: 16}\n"
     ]
    }
   ],
   "source": [
    "# Container: dictionary comprehension\n",
    "\n",
    "d = {'person': 2, 'cat': 4, 'spider': 8}\n",
    "for animal in d:\n",
    "    legs = d[animal]\n",
    "    print('A %s has %d legs' % (animal, legs))\n",
    "# print \"A person has 2 legs\", \"A cat has 4 legs\", \"A spider has 8 legs\"\n",
    "\n",
    "nums = [0, 1, 2, 3, 4]\n",
    "even_num_to_square = {x: x ** 2 for x in nums if x % 2 == 0}\n",
    "print(even_num_to_square)  # print \"{0: 0, 2: 4, 4: 16}\""
   ]
  },
  {
   "cell_type": "code",
   "execution_count": 15,
   "metadata": {},
   "outputs": [
    {
     "name": "stdout",
     "output_type": "stream",
     "text": [
      "True\n",
      "False\n",
      "True\n",
      "3\n",
      "3\n",
      "2\n"
     ]
    }
   ],
   "source": [
    "# Container: sets\n",
    "\n",
    "animals = {'cat', 'dog'}  # create set (unordered collection of distinct elements)\n",
    "print('cat' in animals)   # check if element is in a set; print \"True\"\n",
    "print('fish' in animals)  # print \"False\"\n",
    "animals.add('fish')       # add element\n",
    "print('fish' in animals)  # print \"True\"\n",
    "print(len(animals))       # number of elements; print \"3\"\n",
    "animals.add('cat')        # adding existing element does nothing\n",
    "print(len(animals))       # print \"3\"\n",
    "animals.remove('cat')     # remove element\n",
    "print(len(animals))       # print \"2\""
   ]
  },
  {
   "cell_type": "code",
   "execution_count": 16,
   "metadata": {},
   "outputs": [
    {
     "name": "stdout",
     "output_type": "stream",
     "text": [
      "#1: cat\n",
      "#2: dog\n",
      "#3: fish\n",
      "{0, 1, 2, 3, 4, 5}\n"
     ]
    }
   ],
   "source": [
    "# Container: set comprehension\n",
    "\n",
    "animals = {'cat', 'dog', 'fish'}\n",
    "for idx, animal in enumerate(animals):\n",
    "    print('#%d: %s' % (idx + 1, animal))\n",
    "# print \"#1: fish\", \"#2: dog\", \"#3: cat\"\n",
    "\n",
    "from math import sqrt\n",
    "nums = {int(sqrt(x)) for x in range(30)}\n",
    "print(nums)  # print \"{0, 1, 2, 3, 4, 5}\""
   ]
  },
  {
   "cell_type": "code",
   "execution_count": 17,
   "metadata": {},
   "outputs": [
    {
     "name": "stdout",
     "output_type": "stream",
     "text": [
      "<class 'tuple'>\n",
      "5\n",
      "1\n"
     ]
    }
   ],
   "source": [
    "# Container: tuples\n",
    "\n",
    "t = (5, 6)        # create tuple (immutable ordered list)\n",
    "print(type(t))    # print \"<class 'tuple'>\"\n",
    "d = {(x, x + 1): x for x in range(10)}  # create dictionary with tuple keys\n",
    "print(d[t])       # print \"5\"\n",
    "print(d[(1, 2)])  # print \"1\""
   ]
  },
  {
   "cell_type": "code",
   "execution_count": 22,
   "metadata": {},
   "outputs": [
    {
     "name": "stdout",
     "output_type": "stream",
     "text": [
      "True\n",
      "10\n",
      "True\n",
      "4349724032\n",
      "4349724032\n",
      "[10, 2, 3, 4, 5, 6]\n",
      "4349724032\n",
      "4349444224\n"
     ]
    }
   ],
   "source": [
    "# Mutables\n",
    "\n",
    "num1 = [1, 2, 3, 4, 5]  # non-primitives/mutables (can be modified in-place)\n",
    "num2 = num1      # shallow copy/pass by reference (indeed still pass by value of 'reference')\n",
    "print(num2 is num1)     # num1 and num2 refer to same object; print \"True\"\n",
    "num2[0] = 10            # also affect num1\n",
    "print(num1[0])          # print \"10\"\n",
    "print(num2 is num1)     # print \"True\"\n",
    "print(id(num1))\n",
    "print(id(num2))  # num1 and num2 are different references (holding same address on stack, stack overflow?) pointing to same object on heap (buffer overflow?)\n",
    "num1 += [6]      # in-place augmented assignment\n",
    "print(num1)      # print \"[10, 2, 3, 4, 5, 6]\"\n",
    "print(id(num1))  # num1 points to same object\n",
    "num1 = num1 + [7]       # create new object\n",
    "print(id(num1))  # num1 points to new object"
   ]
  },
  {
   "cell_type": "code",
   "execution_count": 18,
   "metadata": {},
   "outputs": [
    {
     "name": "stdout",
     "output_type": "stream",
     "text": [
      "Hello, Bob\n",
      "HELLO, FRED!\n"
     ]
    }
   ],
   "source": [
    "# Function\n",
    "\n",
    "def hello(name, loud=False):\n",
    "    if loud:\n",
    "        print('HELLO, %s!' % name.upper())\n",
    "    else:\n",
    "        print('Hello, %s' % name)\n",
    "\n",
    "hello('Bob')              # print \"Hello, Bob\"\n",
    "hello('Fred', loud=True)  # print \"HELLO, FRED!\""
   ]
  },
  {
   "cell_type": "code",
   "execution_count": 19,
   "metadata": {},
   "outputs": [],
   "source": [
    "# Class: encapsulation\n",
    "\n",
    "class Vehicle:  # superclass; encapsulation\n",
    "    def __init__(self, make, model, year):\n",
    "        self.make = make\n",
    "        self.model = model\n",
    "        self.year = year\n",
    "\n",
    "    def display_info(self):\n",
    "        print(f\"Vehicle Info: {self.year} {self.make} {self.model}\")\n",
    "\n",
    "    def start_engine(self):\n",
    "        print(\"Engine started\")"
   ]
  },
  {
   "cell_type": "code",
   "execution_count": 20,
   "metadata": {},
   "outputs": [
    {
     "name": "stdout",
     "output_type": "stream",
     "text": [
      "Vehicle Info: 2020 Toyota Camry\n",
      "Number of doors: 4\n",
      "Engine started\n",
      "Car honks: Beep beep!\n"
     ]
    }
   ],
   "source": [
    "# Class: inheritance & polymorphism\n",
    "\n",
    "class Car(Vehicle):  # subclass; inheritance\n",
    "    def __init__(self, make, model, year, doors):\n",
    "        super().__init__(make, model, year)\n",
    "        self.doors = doors\n",
    "\n",
    "    def display_info(self):  # method overriding; polymorphism\n",
    "        super().display_info()\n",
    "        print(f\"Number of doors: {self.doors}\")\n",
    "\n",
    "    def honk(self):\n",
    "        print(\"Car honks: Beep beep!\")\n",
    "\n",
    "car = Car(\"Toyota\", \"Camry\", 2020, 4)\n",
    "car.display_info() # print \"Vehicle Info: 2020 Toyota Camry\", \"Number of doors: 4\"\n",
    "car.start_engine() # print \"Engine started\"\n",
    "car.honk()         # print \"Car honks: Beep beep!\""
   ]
  }
 ],
 "metadata": {
  "kernelspec": {
   "display_name": "Python 3",
   "language": "python",
   "name": "python3"
  },
  "language_info": {
   "codemirror_mode": {
    "name": "ipython",
    "version": 3
   },
   "file_extension": ".py",
   "mimetype": "text/x-python",
   "name": "python",
   "nbconvert_exporter": "python",
   "pygments_lexer": "ipython3",
   "version": "3.9.6"
  }
 },
 "nbformat": 4,
 "nbformat_minor": 2
}
